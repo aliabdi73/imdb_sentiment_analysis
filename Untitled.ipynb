{
 "cells": [
  {
   "cell_type": "code",
   "execution_count": 1,
   "id": "630ca6b9",
   "metadata": {},
   "outputs": [],
   "source": [
    "import numpy as np\n",
    "import pandas as pd\n",
    "import matplotlib.pyplot as plt\n",
    "import seaborn as sns\n",
    "%matplotlib inline"
   ]
  },
  {
   "cell_type": "code",
   "execution_count": 2,
   "id": "791c6c1b",
   "metadata": {},
   "outputs": [
    {
     "name": "stderr",
     "output_type": "stream",
     "text": [
      "C:\\Users\\ali\\anaconda3\\envs\\my_env\\lib\\site-packages\\tqdm\\auto.py:21: TqdmWarning: IProgress not found. Please update jupyter and ipywidgets. See https://ipywidgets.readthedocs.io/en/stable/user_install.html\n",
      "  from .autonotebook import tqdm as notebook_tqdm\n"
     ]
    }
   ],
   "source": [
    "from datasets import load_dataset\n",
    "dataset = load_dataset(\"imdb\")"
   ]
  },
  {
   "cell_type": "code",
   "execution_count": 3,
   "id": "bd6e9937",
   "metadata": {},
   "outputs": [
    {
     "name": "stdout",
     "output_type": "stream",
     "text": [
      "DatasetDict({\n",
      "    train: Dataset({\n",
      "        features: ['text', 'label'],\n",
      "        num_rows: 25000\n",
      "    })\n",
      "    test: Dataset({\n",
      "        features: ['text', 'label'],\n",
      "        num_rows: 25000\n",
      "    })\n",
      "    unsupervised: Dataset({\n",
      "        features: ['text', 'label'],\n",
      "        num_rows: 50000\n",
      "    })\n",
      "})\n"
     ]
    }
   ],
   "source": [
    "print(dataset)"
   ]
  },
  {
   "cell_type": "code",
   "execution_count": 4,
   "id": "f902b497",
   "metadata": {},
   "outputs": [],
   "source": [
    "train_df = pd.DataFrame(dataset['train'])"
   ]
  },
  {
   "cell_type": "code",
   "execution_count": 5,
   "id": "39d57250",
   "metadata": {},
   "outputs": [
    {
     "data": {
      "text/html": [
       "<div>\n",
       "<style scoped>\n",
       "    .dataframe tbody tr th:only-of-type {\n",
       "        vertical-align: middle;\n",
       "    }\n",
       "\n",
       "    .dataframe tbody tr th {\n",
       "        vertical-align: top;\n",
       "    }\n",
       "\n",
       "    .dataframe thead th {\n",
       "        text-align: right;\n",
       "    }\n",
       "</style>\n",
       "<table border=\"1\" class=\"dataframe\">\n",
       "  <thead>\n",
       "    <tr style=\"text-align: right;\">\n",
       "      <th></th>\n",
       "      <th>text</th>\n",
       "      <th>label</th>\n",
       "    </tr>\n",
       "  </thead>\n",
       "  <tbody>\n",
       "    <tr>\n",
       "      <th>0</th>\n",
       "      <td>I rented I AM CURIOUS-YELLOW from my video sto...</td>\n",
       "      <td>0</td>\n",
       "    </tr>\n",
       "    <tr>\n",
       "      <th>1</th>\n",
       "      <td>\"I Am Curious: Yellow\" is a risible and preten...</td>\n",
       "      <td>0</td>\n",
       "    </tr>\n",
       "    <tr>\n",
       "      <th>2</th>\n",
       "      <td>If only to avoid making this type of film in t...</td>\n",
       "      <td>0</td>\n",
       "    </tr>\n",
       "    <tr>\n",
       "      <th>3</th>\n",
       "      <td>This film was probably inspired by Godard's Ma...</td>\n",
       "      <td>0</td>\n",
       "    </tr>\n",
       "    <tr>\n",
       "      <th>4</th>\n",
       "      <td>Oh, brother...after hearing about this ridicul...</td>\n",
       "      <td>0</td>\n",
       "    </tr>\n",
       "  </tbody>\n",
       "</table>\n",
       "</div>"
      ],
      "text/plain": [
       "                                                text  label\n",
       "0  I rented I AM CURIOUS-YELLOW from my video sto...      0\n",
       "1  \"I Am Curious: Yellow\" is a risible and preten...      0\n",
       "2  If only to avoid making this type of film in t...      0\n",
       "3  This film was probably inspired by Godard's Ma...      0\n",
       "4  Oh, brother...after hearing about this ridicul...      0"
      ]
     },
     "execution_count": 5,
     "metadata": {},
     "output_type": "execute_result"
    }
   ],
   "source": [
    "train_df.head()"
   ]
  },
  {
   "cell_type": "code",
   "execution_count": 6,
   "id": "5a668d2f",
   "metadata": {},
   "outputs": [
    {
     "data": {
      "text/html": [
       "<div>\n",
       "<style scoped>\n",
       "    .dataframe tbody tr th:only-of-type {\n",
       "        vertical-align: middle;\n",
       "    }\n",
       "\n",
       "    .dataframe tbody tr th {\n",
       "        vertical-align: top;\n",
       "    }\n",
       "\n",
       "    .dataframe thead th {\n",
       "        text-align: right;\n",
       "    }\n",
       "</style>\n",
       "<table border=\"1\" class=\"dataframe\">\n",
       "  <thead>\n",
       "    <tr style=\"text-align: right;\">\n",
       "      <th></th>\n",
       "      <th>text</th>\n",
       "      <th>label</th>\n",
       "    </tr>\n",
       "  </thead>\n",
       "  <tbody>\n",
       "    <tr>\n",
       "      <th>0</th>\n",
       "      <td>I love sci-fi and am willing to put up with a ...</td>\n",
       "      <td>0</td>\n",
       "    </tr>\n",
       "    <tr>\n",
       "      <th>1</th>\n",
       "      <td>Worth the entertainment value of a rental, esp...</td>\n",
       "      <td>0</td>\n",
       "    </tr>\n",
       "    <tr>\n",
       "      <th>2</th>\n",
       "      <td>its a totally average film with a few semi-alr...</td>\n",
       "      <td>0</td>\n",
       "    </tr>\n",
       "    <tr>\n",
       "      <th>3</th>\n",
       "      <td>STAR RATING: ***** Saturday Night **** Friday ...</td>\n",
       "      <td>0</td>\n",
       "    </tr>\n",
       "    <tr>\n",
       "      <th>4</th>\n",
       "      <td>First off let me say, If you haven't enjoyed a...</td>\n",
       "      <td>0</td>\n",
       "    </tr>\n",
       "  </tbody>\n",
       "</table>\n",
       "</div>"
      ],
      "text/plain": [
       "                                                text  label\n",
       "0  I love sci-fi and am willing to put up with a ...      0\n",
       "1  Worth the entertainment value of a rental, esp...      0\n",
       "2  its a totally average film with a few semi-alr...      0\n",
       "3  STAR RATING: ***** Saturday Night **** Friday ...      0\n",
       "4  First off let me say, If you haven't enjoyed a...      0"
      ]
     },
     "execution_count": 6,
     "metadata": {},
     "output_type": "execute_result"
    }
   ],
   "source": [
    "test_df=pd.DataFrame(dataset['test'])\n",
    "test_df.head()"
   ]
  },
  {
   "cell_type": "code",
   "execution_count": 13,
   "id": "586d9a53",
   "metadata": {},
   "outputs": [
    {
     "name": "stdout",
     "output_type": "stream",
     "text": [
      "<class 'pandas.core.frame.DataFrame'>\n",
      "RangeIndex: 25000 entries, 0 to 24999\n",
      "Data columns (total 2 columns):\n",
      " #   Column  Non-Null Count  Dtype \n",
      "---  ------  --------------  ----- \n",
      " 0   text    25000 non-null  object\n",
      " 1   label   25000 non-null  int64 \n",
      "dtypes: int64(1), object(1)\n",
      "memory usage: 390.8+ KB\n"
     ]
    }
   ],
   "source": [
    "train_df.info()"
   ]
  },
  {
   "cell_type": "code",
   "execution_count": 7,
   "id": "99e394be",
   "metadata": {},
   "outputs": [
    {
     "data": {
      "image/png": "[encoded data removed]",
      "text/plain": [
       "<Figure size 640x480 with 1 Axes>"
      ]
     },
     "metadata": {},
     "output_type": "display_data"
    }
   ],
   "source": [
    "sns.countplot(x='label', data=train_df)\n",
    "plt.show()"
   ]
  },
  {
   "cell_type": "code",
   "execution_count": 8,
   "id": "b4c882aa",
   "metadata": {},
   "outputs": [],
   "source": [
    "train_df['length']=train_df['text'].apply(len)"
   ]
  },
  {
   "cell_type": "code",
   "execution_count": 9,
   "id": "ad3b1418",
   "metadata": {},
   "outputs": [
    {
     "data": {
      "text/html": [
       "<div>\n",
       "<style scoped>\n",
       "    .dataframe tbody tr th:only-of-type {\n",
       "        vertical-align: middle;\n",
       "    }\n",
       "\n",
       "    .dataframe tbody tr th {\n",
       "        vertical-align: top;\n",
       "    }\n",
       "\n",
       "    .dataframe thead th {\n",
       "        text-align: right;\n",
       "    }\n",
       "</style>\n",
       "<table border=\"1\" class=\"dataframe\">\n",
       "  <thead>\n",
       "    <tr style=\"text-align: right;\">\n",
       "      <th></th>\n",
       "      <th>text</th>\n",
       "      <th>label</th>\n",
       "      <th>length</th>\n",
       "    </tr>\n",
       "  </thead>\n",
       "  <tbody>\n",
       "    <tr>\n",
       "      <th>0</th>\n",
       "      <td>I rented I AM CURIOUS-YELLOW from my video sto...</td>\n",
       "      <td>0</td>\n",
       "      <td>1640</td>\n",
       "    </tr>\n",
       "    <tr>\n",
       "      <th>1</th>\n",
       "      <td>\"I Am Curious: Yellow\" is a risible and preten...</td>\n",
       "      <td>0</td>\n",
       "      <td>1294</td>\n",
       "    </tr>\n",
       "    <tr>\n",
       "      <th>2</th>\n",
       "      <td>If only to avoid making this type of film in t...</td>\n",
       "      <td>0</td>\n",
       "      <td>528</td>\n",
       "    </tr>\n",
       "    <tr>\n",
       "      <th>3</th>\n",
       "      <td>This film was probably inspired by Godard's Ma...</td>\n",
       "      <td>0</td>\n",
       "      <td>706</td>\n",
       "    </tr>\n",
       "    <tr>\n",
       "      <th>4</th>\n",
       "      <td>Oh, brother...after hearing about this ridicul...</td>\n",
       "      <td>0</td>\n",
       "      <td>1814</td>\n",
       "    </tr>\n",
       "  </tbody>\n",
       "</table>\n",
       "</div>"
      ],
      "text/plain": [
       "                                                text  label  length\n",
       "0  I rented I AM CURIOUS-YELLOW from my video sto...      0    1640\n",
       "1  \"I Am Curious: Yellow\" is a risible and preten...      0    1294\n",
       "2  If only to avoid making this type of film in t...      0     528\n",
       "3  This film was probably inspired by Godard's Ma...      0     706\n",
       "4  Oh, brother...after hearing about this ridicul...      0    1814"
      ]
     },
     "execution_count": 9,
     "metadata": {},
     "output_type": "execute_result"
    }
   ],
   "source": [
    "train_df.head()"
   ]
  },
  {
   "cell_type": "code",
   "execution_count": 10,
   "id": "a1c69c4e",
   "metadata": {},
   "outputs": [
    {
     "name": "stderr",
     "output_type": "stream",
     "text": [
      "C:\\Users\\ali\\AppData\\Local\\Temp\\ipykernel_6848\\2501178280.py:1: UserWarning: \n",
      "\n",
      "`distplot` is a deprecated function and will be removed in seaborn v0.14.0.\n",
      "\n",
      "Please adapt your code to use either `displot` (a figure-level function with\n",
      "similar flexibility) or `histplot` (an axes-level function for histograms).\n",
      "\n",
      "For a guide to updating your code to use the new functions, please see\n",
      "https://gist.github.com/mwaskom/de44147ed2974457ad6372750bbe5751\n",
      "\n",
      "  sns.distplot(train_df['length'])\n"
     ]
    },
    {
     "data": {
      "image/png": "[encoded data removed]",
      "text/plain": [
       "<Figure size 640x480 with 1 Axes>"
      ]
     },
     "metadata": {},
     "output_type": "display_data"
    }
   ],
   "source": [
    "sns.distplot(train_df['length'])\n",
    "plt.show()"
   ]
  },
  {
   "cell_type": "code",
   "execution_count": 11,
   "id": "02b81db3",
   "metadata": {},
   "outputs": [
    {
     "data": {
      "text/html": [
       "<div>\n",
       "<style scoped>\n",
       "    .dataframe tbody tr th:only-of-type {\n",
       "        vertical-align: middle;\n",
       "    }\n",
       "\n",
       "    .dataframe tbody tr th {\n",
       "        vertical-align: top;\n",
       "    }\n",
       "\n",
       "    .dataframe thead th {\n",
       "        text-align: right;\n",
       "    }\n",
       "</style>\n",
       "<table border=\"1\" class=\"dataframe\">\n",
       "  <thead>\n",
       "    <tr style=\"text-align: right;\">\n",
       "      <th></th>\n",
       "      <th>text</th>\n",
       "      <th>label</th>\n",
       "      <th>length</th>\n",
       "    </tr>\n",
       "  </thead>\n",
       "  <tbody>\n",
       "    <tr>\n",
       "      <th>13756</th>\n",
       "      <td>Match 1: Tag Team Table Match Bubba Ray and Sp...</td>\n",
       "      <td>1</td>\n",
       "      <td>13704</td>\n",
       "    </tr>\n",
       "    <tr>\n",
       "      <th>15085</th>\n",
       "      <td>*!!- SPOILERS - !!*&lt;br /&gt;&lt;br /&gt;Before I begin ...</td>\n",
       "      <td>1</td>\n",
       "      <td>9345</td>\n",
       "    </tr>\n",
       "    <tr>\n",
       "      <th>16487</th>\n",
       "      <td>By now you've probably heard a bit about the n...</td>\n",
       "      <td>1</td>\n",
       "      <td>9420</td>\n",
       "    </tr>\n",
       "    <tr>\n",
       "      <th>16948</th>\n",
       "      <td>**Attention Spoilers**&lt;br /&gt;&lt;br /&gt;First of all...</td>\n",
       "      <td>1</td>\n",
       "      <td>10363</td>\n",
       "    </tr>\n",
       "    <tr>\n",
       "      <th>22551</th>\n",
       "      <td>Titanic directed by James Cameron presents a f...</td>\n",
       "      <td>1</td>\n",
       "      <td>10321</td>\n",
       "    </tr>\n",
       "  </tbody>\n",
       "</table>\n",
       "</div>"
      ],
      "text/plain": [
       "                                                    text  label  length\n",
       "13756  Match 1: Tag Team Table Match Bubba Ray and Sp...      1   13704\n",
       "15085  *!!- SPOILERS - !!*<br /><br />Before I begin ...      1    9345\n",
       "16487  By now you've probably heard a bit about the n...      1    9420\n",
       "16948  **Attention Spoilers**<br /><br />First of all...      1   10363\n",
       "22551  Titanic directed by James Cameron presents a f...      1   10321"
      ]
     },
     "execution_count": 11,
     "metadata": {},
     "output_type": "execute_result"
    }
   ],
   "source": [
    "train_df[train_df['length']>9000]"
   ]
  },
  {
   "cell_type": "code",
   "execution_count": 13,
   "id": "753f58c6",
   "metadata": {},
   "outputs": [
    {
     "name": "stdout",
     "output_type": "stream",
     "text": [
      "Collecting transformers\n",
      "  Using cached transformers-4.42.4-py3-none-any.whl.metadata (43 kB)\n",
      "Requirement already satisfied: filelock in c:\\users\\ali\\anaconda3\\envs\\my_env\\lib\\site-packages (from transformers) (3.13.1)\n",
      "Requirement already satisfied: huggingface-hub<1.0,>=0.23.2 in c:\\users\\ali\\anaconda3\\envs\\my_env\\lib\\site-packages (from transformers) (0.23.4)\n",
      "Requirement already satisfied: numpy<2.0,>=1.17 in c:\\users\\ali\\anaconda3\\envs\\my_env\\lib\\site-packages (from transformers) (1.24.3)\n",
      "Requirement already satisfied: packaging>=20.0 in c:\\users\\ali\\anaconda3\\envs\\my_env\\lib\\site-packages (from transformers) (23.2)\n",
      "Requirement already satisfied: pyyaml>=5.1 in c:\\users\\ali\\anaconda3\\envs\\my_env\\lib\\site-packages (from transformers) (6.0.1)\n",
      "Collecting regex!=2019.12.17 (from transformers)\n",
      "  Using cached regex-2024.5.15-cp310-cp310-win_amd64.whl.metadata (41 kB)\n",
      "Requirement already satisfied: requests in c:\\users\\ali\\anaconda3\\envs\\my_env\\lib\\site-packages (from transformers) (2.32.2)\n",
      "Collecting safetensors>=0.4.1 (from transformers)\n",
      "  Using cached safetensors-0.4.3-cp310-none-win_amd64.whl.metadata (3.9 kB)\n",
      "Requirement already satisfied: tokenizers<0.20,>=0.19 in c:\\users\\ali\\anaconda3\\envs\\my_env\\lib\\site-packages (from transformers) (0.19.1)\n",
      "Requirement already satisfied: tqdm>=4.27 in c:\\users\\ali\\anaconda3\\envs\\my_env\\lib\\site-packages (from transformers) (4.66.4)\n",
      "Requirement already satisfied: fsspec>=2023.5.0 in c:\\users\\ali\\anaconda3\\envs\\my_env\\lib\\site-packages (from huggingface-hub<1.0,>=0.23.2->transformers) (2024.5.0)\n",
      "Requirement already satisfied: typing-extensions>=3.7.4.3 in c:\\users\\ali\\anaconda3\\envs\\my_env\\lib\\site-packages (from huggingface-hub<1.0,>=0.23.2->transformers) (4.11.0)\n",
      "Requirement already satisfied: colorama in c:\\users\\ali\\anaconda3\\envs\\my_env\\lib\\site-packages (from tqdm>=4.27->transformers) (0.4.6)\n",
      "Requirement already satisfied: charset-normalizer<4,>=2 in c:\\users\\ali\\anaconda3\\envs\\my_env\\lib\\site-packages (from requests->transformers) (2.0.4)\n",
      "Requirement already satisfied: idna<4,>=2.5 in c:\\users\\ali\\anaconda3\\envs\\my_env\\lib\\site-packages (from requests->transformers) (3.7)\n",
      "Requirement already satisfied: urllib3<3,>=1.21.1 in c:\\users\\ali\\anaconda3\\envs\\my_env\\lib\\site-packages (from requests->transformers) (2.2.2)\n",
      "Requirement already satisfied: certifi>=2017.4.17 in c:\\users\\ali\\anaconda3\\envs\\my_env\\lib\\site-packages (from requests->transformers) (2024.6.2)\n",
      "Downloading transformers-4.42.4-py3-none-any.whl (9.3 MB)\n",
      "   ---------------------------------------- 0.0/9.3 MB ? eta -:--:--\n",
      "   ---------------------------------------- 0.0/9.3 MB ? eta -:--:--\n",
      "   ---------------------------------------- 0.0/9.3 MB 217.9 kB/s eta 0:00:43\n",
      "   ---------------------------------------- 0.0/9.3 MB 220.2 kB/s eta 0:00:43\n",
      "   ---------------------------------------- 0.1/9.3 MB 328.2 kB/s eta 0:00:29\n",
      "   ---------------------------------------- 0.1/9.3 MB 403.5 kB/s eta 0:00:23\n",
      "    --------------------------------------- 0.1/9.3 MB 532.5 kB/s eta 0:00:18\n",
      "    --------------------------------------- 0.2/9.3 MB 655.1 kB/s eta 0:00:14\n",
      "   - -------------------------------------- 0.3/9.3 MB 716.5 kB/s eta 0:00:13\n",
      "   - -------------------------------------- 0.3/9.3 MB 761.4 kB/s eta 0:00:12\n",
      "   - -------------------------------------- 0.4/9.3 MB 820.1 kB/s eta 0:00:11\n",
      "   - -------------------------------------- 0.4/9.3 MB 846.3 kB/s eta 0:00:11\n",
      "   -- ------------------------------------- 0.5/9.3 MB 867.8 kB/s eta 0:00:11\n",
      "   -- ------------------------------------- 0.5/9.3 MB 868.1 kB/s eta 0:00:11\n",
      "   -- ------------------------------------- 0.6/9.3 MB 917.5 kB/s eta 0:00:10\n",
      "   -- ------------------------------------- 0.6/9.3 MB 929.5 kB/s eta 0:00:10\n",
      "   -- ------------------------------------- 0.7/9.3 MB 927.0 kB/s eta 0:00:10\n",
      "   --- ------------------------------------ 0.7/9.3 MB 963.8 kB/s eta 0:00:09\n",
      "   --- ------------------------------------ 0.8/9.3 MB 971.0 kB/s eta 0:00:09\n",
      "   --- ------------------------------------ 0.8/9.3 MB 965.6 kB/s eta 0:00:09\n",
      "   --- ------------------------------------ 0.9/9.3 MB 994.6 kB/s eta 0:00:09\n",
      "   ---- ----------------------------------- 1.0/9.3 MB 999.3 kB/s eta 0:00:09\n",
      "   ---- ----------------------------------- 1.0/9.3 MB 993.3 kB/s eta 0:00:09\n",
      "   ---- ----------------------------------- 1.1/9.3 MB 1.0 MB/s eta 0:00:09\n",
      "   ---- ----------------------------------- 1.1/9.3 MB 1.0 MB/s eta 0:00:09\n",
      "   ----- ---------------------------------- 1.2/9.3 MB 1.0 MB/s eta 0:00:09\n",
      "   ----- ---------------------------------- 1.2/9.3 MB 1.0 MB/s eta 0:00:08\n",
      "   ----- ---------------------------------- 1.3/9.3 MB 1.0 MB/s eta 0:00:08\n",
      "   ----- ---------------------------------- 1.3/9.3 MB 1.0 MB/s eta 0:00:08\n",
      "   ------ --------------------------------- 1.4/9.3 MB 1.0 MB/s eta 0:00:08\n",
      "   ------ --------------------------------- 1.4/9.3 MB 1.0 MB/s eta 0:00:08\n",
      "   ------ --------------------------------- 1.5/9.3 MB 1.1 MB/s eta 0:00:08\n",
      "   ------ --------------------------------- 1.6/9.3 MB 1.1 MB/s eta 0:00:08\n",
      "   ------ --------------------------------- 1.6/9.3 MB 1.1 MB/s eta 0:00:08\n",
      "   ------- -------------------------------- 1.7/9.3 MB 1.1 MB/s eta 0:00:08\n",
      "   ------- -------------------------------- 1.7/9.3 MB 1.1 MB/s eta 0:00:08\n",
      "   ------- -------------------------------- 1.8/9.3 MB 1.1 MB/s eta 0:00:08\n",
      "   ------- -------------------------------- 1.8/9.3 MB 1.1 MB/s eta 0:00:08\n",
      "   -------- ------------------------------- 1.9/9.3 MB 1.1 MB/s eta 0:00:08\n",
      "   -------- ------------------------------- 1.9/9.3 MB 1.1 MB/s eta 0:00:07\n",
      "   -------- ------------------------------- 2.0/9.3 MB 1.1 MB/s eta 0:00:07\n",
      "   -------- ------------------------------- 2.0/9.3 MB 1.1 MB/s eta 0:00:07\n",
      "   -------- ------------------------------- 2.1/9.3 MB 1.1 MB/s eta 0:00:07\n",
      "   --------- ------------------------------ 2.2/9.3 MB 1.1 MB/s eta 0:00:07\n",
      "   --------- ------------------------------ 2.2/9.3 MB 1.1 MB/s eta 0:00:07\n",
      "   --------- ------------------------------ 2.3/9.3 MB 1.1 MB/s eta 0:00:07\n",
      "   --------- ------------------------------ 2.3/9.3 MB 1.1 MB/s eta 0:00:07\n",
      "   ---------- ----------------------------- 2.4/9.3 MB 1.1 MB/s eta 0:00:07\n",
      "   ---------- ----------------------------- 2.4/9.3 MB 1.1 MB/s eta 0:00:07\n",
      "   ---------- ----------------------------- 2.5/9.3 MB 1.1 MB/s eta 0:00:07\n",
      "   ---------- ----------------------------- 2.5/9.3 MB 1.1 MB/s eta 0:00:07\n",
      "   ----------- ---------------------------- 2.6/9.3 MB 1.1 MB/s eta 0:00:07\n",
      "   ----------- ---------------------------- 2.7/9.3 MB 1.1 MB/s eta 0:00:07\n",
      "   ----------- ---------------------------- 2.7/9.3 MB 1.1 MB/s eta 0:00:07\n",
      "   ----------- ---------------------------- 2.7/9.3 MB 1.1 MB/s eta 0:00:07\n",
      "   ------------ --------------------------- 2.8/9.3 MB 1.1 MB/s eta 0:00:06\n",
      "   ------------ --------------------------- 2.9/9.3 MB 1.1 MB/s eta 0:00:06\n",
      "   ------------ --------------------------- 2.9/9.3 MB 1.1 MB/s eta 0:00:06\n",
      "   ------------ --------------------------- 3.0/9.3 MB 1.1 MB/s eta 0:00:06\n",
      "   ------------ --------------------------- 3.0/9.3 MB 1.1 MB/s eta 0:00:06\n",
      "   ------------- -------------------------- 3.1/9.3 MB 1.1 MB/s eta 0:00:06\n",
      "   ------------- -------------------------- 3.1/9.3 MB 1.1 MB/s eta 0:00:06\n",
      "   ------------- -------------------------- 3.2/9.3 MB 1.1 MB/s eta 0:00:06\n",
      "   ------------- -------------------------- 3.2/9.3 MB 1.1 MB/s eta 0:00:06\n",
      "   -------------- ------------------------- 3.3/9.3 MB 1.1 MB/s eta 0:00:06\n",
      "   -------------- ------------------------- 3.3/9.3 MB 1.1 MB/s eta 0:00:06\n",
      "   -------------- ------------------------- 3.4/9.3 MB 1.1 MB/s eta 0:00:06\n",
      "   -------------- ------------------------- 3.5/9.3 MB 1.1 MB/s eta 0:00:06\n",
      "   --------------- ------------------------ 3.5/9.3 MB 1.1 MB/s eta 0:00:06\n",
      "   --------------- ------------------------ 3.6/9.3 MB 1.1 MB/s eta 0:00:06\n",
      "   --------------- ------------------------ 3.6/9.3 MB 1.1 MB/s eta 0:00:06\n",
      "   --------------- ------------------------ 3.7/9.3 MB 1.1 MB/s eta 0:00:06\n",
      "   ---------------- ----------------------- 3.7/9.3 MB 1.1 MB/s eta 0:00:06\n",
      "   ---------------- ----------------------- 3.8/9.3 MB 1.1 MB/s eta 0:00:06\n",
      "   ---------------- ----------------------- 3.8/9.3 MB 1.1 MB/s eta 0:00:05\n",
      "   ---------------- ----------------------- 3.9/9.3 MB 1.1 MB/s eta 0:00:05\n",
      "   ---------------- ----------------------- 3.9/9.3 MB 1.1 MB/s eta 0:00:05\n",
      "   ----------------- ---------------------- 4.0/9.3 MB 1.1 MB/s eta 0:00:05\n",
      "   ----------------- ---------------------- 4.1/9.3 MB 1.1 MB/s eta 0:00:05\n",
      "   ----------------- ---------------------- 4.1/9.3 MB 1.1 MB/s eta 0:00:05\n",
      "   ----------------- ---------------------- 4.2/9.3 MB 1.1 MB/s eta 0:00:05\n",
      "   ------------------ --------------------- 4.2/9.3 MB 1.1 MB/s eta 0:00:05\n",
      "   ------------------ --------------------- 4.3/9.3 MB 1.1 MB/s eta 0:00:05\n",
      "   ------------------ --------------------- 4.3/9.3 MB 1.1 MB/s eta 0:00:05\n",
      "   ------------------ --------------------- 4.4/9.3 MB 1.1 MB/s eta 0:00:05\n",
      "   ------------------ --------------------- 4.4/9.3 MB 1.1 MB/s eta 0:00:05\n",
      "   ------------------- -------------------- 4.5/9.3 MB 1.1 MB/s eta 0:00:05\n",
      "   ------------------- -------------------- 4.5/9.3 MB 1.1 MB/s eta 0:00:05\n",
      "   ------------------- -------------------- 4.6/9.3 MB 1.1 MB/s eta 0:00:05\n",
      "   ------------------- -------------------- 4.7/9.3 MB 1.1 MB/s eta 0:00:05\n",
      "   -------------------- ------------------- 4.7/9.3 MB 1.1 MB/s eta 0:00:05\n",
      "   -------------------- ------------------- 4.8/9.3 MB 1.1 MB/s eta 0:00:05\n",
      "   -------------------- ------------------- 4.8/9.3 MB 1.1 MB/s eta 0:00:05\n",
      "   -------------------- ------------------- 4.9/9.3 MB 1.1 MB/s eta 0:00:04\n",
      "   --------------------- ------------------ 4.9/9.3 MB 1.1 MB/s eta 0:00:04\n",
      "   --------------------- ------------------ 5.0/9.3 MB 1.1 MB/s eta 0:00:04\n",
      "   --------------------- ------------------ 5.0/9.3 MB 1.1 MB/s eta 0:00:04\n",
      "   --------------------- ------------------ 5.1/9.3 MB 1.1 MB/s eta 0:00:04\n",
      "   ---------------------- ----------------- 5.1/9.3 MB 1.1 MB/s eta 0:00:04\n",
      "   ---------------------- ----------------- 5.2/9.3 MB 1.1 MB/s eta 0:00:04\n",
      "   ---------------------- ----------------- 5.3/9.3 MB 1.1 MB/s eta 0:00:04\n",
      "   ---------------------- ----------------- 5.3/9.3 MB 1.1 MB/s eta 0:00:04\n",
      "   ---------------------- ----------------- 5.4/9.3 MB 1.1 MB/s eta 0:00:04\n",
      "   ----------------------- ---------------- 5.4/9.3 MB 1.1 MB/s eta 0:00:04\n",
      "   ----------------------- ---------------- 5.5/9.3 MB 1.1 MB/s eta 0:00:04\n",
      "   ----------------------- ---------------- 5.5/9.3 MB 1.1 MB/s eta 0:00:04\n",
      "   ----------------------- ---------------- 5.6/9.3 MB 1.1 MB/s eta 0:00:04\n",
      "   ------------------------ --------------- 5.6/9.3 MB 1.1 MB/s eta 0:00:04\n",
      "   ------------------------ --------------- 5.7/9.3 MB 1.1 MB/s eta 0:00:04\n",
      "   ------------------------ --------------- 5.7/9.3 MB 1.1 MB/s eta 0:00:04\n",
      "   ------------------------ --------------- 5.8/9.3 MB 1.1 MB/s eta 0:00:04\n",
      "   ------------------------- -------------- 5.8/9.3 MB 1.1 MB/s eta 0:00:04\n",
      "   ------------------------- -------------- 5.9/9.3 MB 1.1 MB/s eta 0:00:04\n",
      "   ------------------------- -------------- 6.0/9.3 MB 1.1 MB/s eta 0:00:03\n",
      "   ------------------------- -------------- 6.0/9.3 MB 1.1 MB/s eta 0:00:03\n",
      "   ------------------------- -------------- 6.1/9.3 MB 1.1 MB/s eta 0:00:03\n",
      "   -------------------------- ------------- 6.1/9.3 MB 1.1 MB/s eta 0:00:03\n",
      "   -------------------------- ------------- 6.2/9.3 MB 1.1 MB/s eta 0:00:03\n",
      "   -------------------------- ------------- 6.2/9.3 MB 1.1 MB/s eta 0:00:03\n",
      "   -------------------------- ------------- 6.3/9.3 MB 1.1 MB/s eta 0:00:03\n",
      "   --------------------------- ------------ 6.3/9.3 MB 1.1 MB/s eta 0:00:03\n",
      "   --------------------------- ------------ 6.4/9.3 MB 1.1 MB/s eta 0:00:03\n",
      "   --------------------------- ------------ 6.5/9.3 MB 1.1 MB/s eta 0:00:03\n",
      "   --------------------------- ------------ 6.5/9.3 MB 1.1 MB/s eta 0:00:03\n",
      "   ---------------------------- ----------- 6.5/9.3 MB 1.1 MB/s eta 0:00:03\n",
      "   ---------------------------- ----------- 6.6/9.3 MB 1.1 MB/s eta 0:00:03\n",
      "   ---------------------------- ----------- 6.7/9.3 MB 1.1 MB/s eta 0:00:03\n",
      "   ---------------------------- ----------- 6.7/9.3 MB 1.1 MB/s eta 0:00:03\n",
      "   ---------------------------- ----------- 6.8/9.3 MB 1.1 MB/s eta 0:00:03\n",
      "   ----------------------------- ---------- 6.8/9.3 MB 1.1 MB/s eta 0:00:03\n",
      "   ----------------------------- ---------- 6.9/9.3 MB 1.1 MB/s eta 0:00:03\n",
      "   ----------------------------- ---------- 6.9/9.3 MB 1.1 MB/s eta 0:00:03\n",
      "   ----------------------------- ---------- 7.0/9.3 MB 1.1 MB/s eta 0:00:03\n",
      "   ------------------------------ --------- 7.0/9.3 MB 1.1 MB/s eta 0:00:03\n",
      "   ------------------------------ --------- 7.1/9.3 MB 1.1 MB/s eta 0:00:02\n",
      "   ------------------------------ --------- 7.1/9.3 MB 1.1 MB/s eta 0:00:02\n",
      "   ------------------------------ --------- 7.2/9.3 MB 1.1 MB/s eta 0:00:02\n",
      "   ------------------------------- -------- 7.3/9.3 MB 1.1 MB/s eta 0:00:02\n",
      "   ------------------------------- -------- 7.3/9.3 MB 1.1 MB/s eta 0:00:02\n",
      "   ------------------------------- -------- 7.4/9.3 MB 1.1 MB/s eta 0:00:02\n",
      "   ------------------------------- -------- 7.4/9.3 MB 1.1 MB/s eta 0:00:02\n",
      "   ------------------------------- -------- 7.5/9.3 MB 1.1 MB/s eta 0:00:02\n",
      "   -------------------------------- ------- 7.5/9.3 MB 1.1 MB/s eta 0:00:02\n",
      "   -------------------------------- ------- 7.6/9.3 MB 1.1 MB/s eta 0:00:02\n",
      "   -------------------------------- ------- 7.6/9.3 MB 1.1 MB/s eta 0:00:02\n",
      "   -------------------------------- ------- 7.7/9.3 MB 1.1 MB/s eta 0:00:02\n",
      "   --------------------------------- ------ 7.8/9.3 MB 1.1 MB/s eta 0:00:02\n",
      "   --------------------------------- ------ 7.8/9.3 MB 1.1 MB/s eta 0:00:02\n",
      "   --------------------------------- ------ 7.9/9.3 MB 1.1 MB/s eta 0:00:02\n",
      "   --------------------------------- ------ 7.9/9.3 MB 1.1 MB/s eta 0:00:02\n",
      "   ---------------------------------- ----- 8.0/9.3 MB 1.1 MB/s eta 0:00:02\n",
      "   ---------------------------------- ----- 8.0/9.3 MB 1.1 MB/s eta 0:00:02\n",
      "   ---------------------------------- ----- 8.1/9.3 MB 1.1 MB/s eta 0:00:02\n",
      "   ---------------------------------- ----- 8.1/9.3 MB 1.1 MB/s eta 0:00:02\n",
      "   ----------------------------------- ---- 8.2/9.3 MB 1.1 MB/s eta 0:00:02\n",
      "   ----------------------------------- ---- 8.2/9.3 MB 1.1 MB/s eta 0:00:01\n",
      "   ----------------------------------- ---- 8.3/9.3 MB 1.1 MB/s eta 0:00:01\n",
      "   ----------------------------------- ---- 8.3/9.3 MB 1.1 MB/s eta 0:00:01\n",
      "   ----------------------------------- ---- 8.3/9.3 MB 1.1 MB/s eta 0:00:01\n",
      "   ----------------------------------- ---- 8.3/9.3 MB 1.1 MB/s eta 0:00:01\n",
      "   ----------------------------------- ---- 8.3/9.3 MB 1.1 MB/s eta 0:00:01\n",
      "   ----------------------------------- ---- 8.3/9.3 MB 1.1 MB/s eta 0:00:01\n",
      "   ----------------------------------- ---- 8.3/9.3 MB 1.1 MB/s eta 0:00:01\n",
      "   ----------------------------------- ---- 8.3/9.3 MB 1.1 MB/s eta 0:00:01\n",
      "   ----------------------------------- ---- 8.3/9.3 MB 1.1 MB/s eta 0:00:01\n",
      "   ----------------------------------- ---- 8.3/9.3 MB 1.1 MB/s eta 0:00:01\n",
      "   ----------------------------------- ---- 8.3/9.3 MB 1.1 MB/s eta 0:00:01\n",
      "   ----------------------------------- ---- 8.3/9.3 MB 1.1 MB/s eta 0:00:01\n",
      "   ----------------------------------- ---- 8.4/9.3 MB 1.1 MB/s eta 0:00:01\n",
      "   ------------------------------------ --- 8.5/9.3 MB 1.1 MB/s eta 0:00:01\n",
      "   -------------------------------------- - 9.1/9.3 MB 1.1 MB/s eta 0:00:01\n",
      "   ---------------------------------------  9.1/9.3 MB 1.1 MB/s eta 0:00:01\n",
      "   ---------------------------------------  9.2/9.3 MB 1.1 MB/s eta 0:00:01\n",
      "   ---------------------------------------  9.2/9.3 MB 1.1 MB/s eta 0:00:01\n",
      "   ---------------------------------------  9.3/9.3 MB 1.1 MB/s eta 0:00:01\n",
      "   ---------------------------------------  9.3/9.3 MB 1.1 MB/s eta 0:00:01\n",
      "   ---------------------------------------  9.3/9.3 MB 1.1 MB/s eta 0:00:01\n",
      "   ---------------------------------------  9.3/9.3 MB 1.1 MB/s eta 0:00:01\n",
      "   ---------------------------------------  9.3/9.3 MB 1.1 MB/s eta 0:00:01\n",
      "   ---------------------------------------  9.3/9.3 MB 1.1 MB/s eta 0:00:01\n",
      "   ---------------------------------------  9.3/9.3 MB 1.1 MB/s eta 0:00:01\n",
      "   ---------------------------------------  9.3/9.3 MB 1.1 MB/s eta 0:00:01\n",
      "   ---------------------------------------- 9.3/9.3 MB 1.1 MB/s eta 0:00:00\n",
      "Downloading regex-2024.5.15-cp310-cp310-win_amd64.whl (268 kB)\n",
      "   ---------------------------------------- 0.0/269.0 kB ? eta -:--:--\n",
      "   ------ --------------------------------- 41.0/269.0 kB 2.0 MB/s eta 0:00:01\n",
      "   ------------- -------------------------- 92.2/269.0 kB 1.3 MB/s eta 0:00:01\n",
      "   --------------------- ------------------ 143.4/269.0 kB 1.2 MB/s eta 0:00:01\n",
      "   ------------------------------ --------- 204.8/269.0 kB 1.2 MB/s eta 0:00:01\n",
      "   -------------------------------------- - 256.0/269.0 kB 1.2 MB/s eta 0:00:01\n",
      "   ---------------------------------------  266.2/269.0 kB 1.2 MB/s eta 0:00:01\n",
      "   -------------------------------------- 269.0/269.0 kB 976.4 kB/s eta 0:00:00\n",
      "Downloading safetensors-0.4.3-cp310-none-win_amd64.whl (287 kB)\n",
      "   ---------------------------------------- 0.0/287.4 kB ? eta -:--:--\n",
      "   ----- ---------------------------------- 41.0/287.4 kB 1.9 MB/s eta 0:00:01\n",
      "   --------- ------------------------------ 71.7/287.4 kB 1.3 MB/s eta 0:00:01\n",
      "   ------------------- -------------------- 143.4/287.4 kB 1.2 MB/s eta 0:00:01\n",
      "   ---------------------------- ----------- 204.8/287.4 kB 1.2 MB/s eta 0:00:01\n",
      "   ----------------------------------- ---- 256.0/287.4 kB 1.2 MB/s eta 0:00:01\n",
      "   ---------------------------------------  286.7/287.4 kB 1.2 MB/s eta 0:00:01\n",
      "   -------------------------------------- 287.4/287.4 kB 986.5 kB/s eta 0:00:00\n",
      "Installing collected packages: safetensors, regex, transformers\n",
      "Successfully installed regex-2024.5.15 safetensors-0.4.3 transformers-4.42.4\n",
      "Note: you may need to restart the kernel to use updated packages.\n"
     ]
    }
   ],
   "source": [
    "pip install transformers"
   ]
  },
  {
   "cell_type": "code",
   "execution_count": 14,
   "id": "950bad65",
   "metadata": {},
   "outputs": [],
   "source": [
    "from transformers import AutoTokenizer"
   ]
  },
  {
   "cell_type": "code",
   "execution_count": 15,
   "id": "c6c16a70",
   "metadata": {},
   "outputs": [
    {
     "name": "stderr",
     "output_type": "stream",
     "text": [
      "C:\\Users\\ali\\anaconda3\\envs\\my_env\\lib\\site-packages\\huggingface_hub\\file_download.py:157: UserWarning: `huggingface_hub` cache-system uses symlinks by default to efficiently store duplicated files but your machine does not support them in C:\\Users\\ali\\.cache\\huggingface\\hub\\models--bert-base-uncased. Caching files will still work but in a degraded version that might require more space on your disk. This warning can be disabled by setting the `HF_HUB_DISABLE_SYMLINKS_WARNING` environment variable. For more details, see https://huggingface.co/docs/huggingface_hub/how-to-cache#limitations.\n",
      "To support symlinks on Windows, you either need to activate Developer Mode or to run Python as an administrator. In order to see activate developer mode, see this article: https://docs.microsoft.com/en-us/windows/apps/get-started/enable-your-device-for-development\n",
      "  warnings.warn(message)\n"
     ]
    }
   ],
   "source": [
    "tokenizer = AutoTokenizer.from_pretrained(\"bert-base-uncased\")"
   ]
  },
  {
   "cell_type": "code",
   "execution_count": 16,
   "id": "0e36be86",
   "metadata": {},
   "outputs": [],
   "source": [
    "def tokenize_function(examples):\n",
    "    return tokenizer(examples[\"text\"], padding=\"max_length\", truncation=True)"
   ]
  },
  {
   "cell_type": "code",
   "execution_count": 17,
   "id": "f004da3c",
   "metadata": {},
   "outputs": [
    {
     "name": "stderr",
     "output_type": "stream",
     "text": [
      "Map: 100%|██████████████████████████████████████████████████████████████| 25000/25000 [00:23<00:00, 1063.64 examples/s]\n",
      "Map: 100%|██████████████████████████████████████████████████████████████| 25000/25000 [00:24<00:00, 1023.54 examples/s]\n",
      "Map: 100%|██████████████████████████████████████████████████████████████| 50000/50000 [00:45<00:00, 1102.88 examples/s]\n"
     ]
    }
   ],
   "source": [
    "tokenized_datasets = dataset.map(tokenize_function, batched=True)"
   ]
  },
  {
   "cell_type": "code",
   "execution_count": 18,
   "id": "6ee37378",
   "metadata": {},
   "outputs": [],
   "source": [
    "tokenized_datasets = tokenized_datasets.rename_column(\"label\", \"labels\")\n",
    "tokenized_datasets.set_format(\"torch\", columns=[\"input_ids\", \"attention_mask\", \"labels\"])"
   ]
  },
  {
   "cell_type": "code",
   "execution_count": 28,
   "id": "74f37abb",
   "metadata": {},
   "outputs": [
    {
     "name": "stderr",
     "output_type": "stream",
     "text": [
      "Error while downloading from https://cdn-lfs.huggingface.co/bert-base-uncased/a7a17d6d844b5de815ccab5f42cad6d24496db3850a2a43d8258221018ce87d2?response-content-disposition=inline%3B+filename*%3DUTF-8%27%27tf_model.h5%3B+filename%3D%22tf_model.h5%22%3B&Expires=1721899473&Policy=eyJTdGF0ZW1lbnQiOlt7IkNvbmRpdGlvbiI6eyJEYXRlTGVzc1RoYW4iOnsiQVdTOkVwb2NoVGltZSI6MTcyMTg5OTQ3M319LCJSZXNvdXJjZSI6Imh0dHBzOi8vY2RuLWxmcy5odWdnaW5nZmFjZS5jby9iZXJ0LWJhc2UtdW5jYXNlZC9hN2ExN2Q2ZDg0NGI1ZGU4MTVjY2FiNWY0MmNhZDZkMjQ0OTZkYjM4NTBhMmE0M2Q4MjU4MjIxMDE4Y2U4N2QyP3Jlc3BvbnNlLWNvbnRlbnQtZGlzcG9zaXRpb249KiJ9XX0_&Signature=G6EWVJQC-B7maeGdaPKXxiNwP5Oeu9-RaeCph0K%7EEVXezJBBoY6Bwq-O65HB7NmsELHBruQDGvFiiVgRbKnAkhjkIsRh-eJhj-9-Mx1iw4vM7mIjARJilgphhCpcyinqvTGRT4eyST9CutaBisbhGA47S0mbuODOzlI6NvAj8-bWV152do3P6ykT6jyxjbqcj95zDxvEq9f6JLKsbkxFiggmbTwdzsS6jkC14-1%7EDdAJ13UhRnE-YJdei7q%7Ego5o4E17IeJrscVBitW18R6aZTklBTS20xyUnSE9fY%7E0dJkhjfjjJLDF%7E1mYCmxzHAeEiCtLew7DxECjsjukrihfcQ__&Key-Pair-Id=K3ESJI6DHPFC7: HTTPSConnectionPool(host='cdn-lfs.huggingface.co', port=443): Read timed out.\n",
      "Trying to resume download...\n",
      "Loading a TensorFlow model in PyTorch, requires both PyTorch and TensorFlow to be installed. Please see https://pytorch.org/ and https://www.tensorflow.org/install/ for installation instructions.\n",
      "Loading a TensorFlow model in PyTorch, requires both PyTorch and TensorFlow to be installed. Please see https://pytorch.org/ and https://www.tensorflow.org/install/ for installation instructions.\n"
     ]
    },
    {
     "ename": "ModuleNotFoundError",
     "evalue": "No module named 'tensorflow'",
     "output_type": "error",
     "traceback": [
      "\u001b[1;31m---------------------------------------------------------------------------\u001b[0m",
      "\u001b[1;31mModuleNotFoundError\u001b[0m                       Traceback (most recent call last)",
      "Cell \u001b[1;32mIn[28], line 3\u001b[0m\n\u001b[0;32m      1\u001b[0m \u001b[38;5;28;01mfrom\u001b[39;00m \u001b[38;5;21;01mtransformers\u001b[39;00m \u001b[38;5;28;01mimport\u001b[39;00m AutoModelForSequenceClassification, logging\n\u001b[0;32m      2\u001b[0m logging\u001b[38;5;241m.\u001b[39mset_verbosity_warning()\n\u001b[1;32m----> 3\u001b[0m model \u001b[38;5;241m=\u001b[39m \u001b[43mAutoModelForSequenceClassification\u001b[49m\u001b[38;5;241;43m.\u001b[39;49m\u001b[43mfrom_pretrained\u001b[49m\u001b[43m(\u001b[49m\u001b[38;5;124;43m\"\u001b[39;49m\u001b[38;5;124;43mbert-base-uncased\u001b[39;49m\u001b[38;5;124;43m\"\u001b[39;49m\u001b[43m,\u001b[49m\u001b[43m \u001b[49m\u001b[43mnum_labels\u001b[49m\u001b[38;5;241;43m=\u001b[39;49m\u001b[38;5;241;43m2\u001b[39;49m\u001b[43m,\u001b[49m\u001b[43m \u001b[49m\u001b[43mfrom_tf\u001b[49m\u001b[38;5;241;43m=\u001b[39;49m\u001b[38;5;28;43;01mTrue\u001b[39;49;00m\u001b[43m)\u001b[49m\n",
      "File \u001b[1;32m~\\anaconda3\\envs\\my_env\\lib\\site-packages\\transformers\\models\\auto\\auto_factory.py:564\u001b[0m, in \u001b[0;36m_BaseAutoModelClass.from_pretrained\u001b[1;34m(cls, pretrained_model_name_or_path, *model_args, **kwargs)\u001b[0m\n\u001b[0;32m    562\u001b[0m \u001b[38;5;28;01melif\u001b[39;00m \u001b[38;5;28mtype\u001b[39m(config) \u001b[38;5;129;01min\u001b[39;00m \u001b[38;5;28mcls\u001b[39m\u001b[38;5;241m.\u001b[39m_model_mapping\u001b[38;5;241m.\u001b[39mkeys():\n\u001b[0;32m    563\u001b[0m     model_class \u001b[38;5;241m=\u001b[39m _get_model_class(config, \u001b[38;5;28mcls\u001b[39m\u001b[38;5;241m.\u001b[39m_model_mapping)\n\u001b[1;32m--> 564\u001b[0m     \u001b[38;5;28;01mreturn\u001b[39;00m model_class\u001b[38;5;241m.\u001b[39mfrom_pretrained(\n\u001b[0;32m    565\u001b[0m         pretrained_model_name_or_path, \u001b[38;5;241m*\u001b[39mmodel_args, config\u001b[38;5;241m=\u001b[39mconfig, \u001b[38;5;241m*\u001b[39m\u001b[38;5;241m*\u001b[39mhub_kwargs, \u001b[38;5;241m*\u001b[39m\u001b[38;5;241m*\u001b[39mkwargs\n\u001b[0;32m    566\u001b[0m     )\n\u001b[0;32m    567\u001b[0m \u001b[38;5;28;01mraise\u001b[39;00m \u001b[38;5;167;01mValueError\u001b[39;00m(\n\u001b[0;32m    568\u001b[0m     \u001b[38;5;124mf\u001b[39m\u001b[38;5;124m\"\u001b[39m\u001b[38;5;124mUnrecognized configuration class \u001b[39m\u001b[38;5;132;01m{\u001b[39;00mconfig\u001b[38;5;241m.\u001b[39m\u001b[38;5;18m__class__\u001b[39m\u001b[38;5;132;01m}\u001b[39;00m\u001b[38;5;124m for this kind of AutoModel: \u001b[39m\u001b[38;5;132;01m{\u001b[39;00m\u001b[38;5;28mcls\u001b[39m\u001b[38;5;241m.\u001b[39m\u001b[38;5;18m__name__\u001b[39m\u001b[38;5;132;01m}\u001b[39;00m\u001b[38;5;124m.\u001b[39m\u001b[38;5;130;01m\\n\u001b[39;00m\u001b[38;5;124m\"\u001b[39m\n\u001b[0;32m    569\u001b[0m     \u001b[38;5;124mf\u001b[39m\u001b[38;5;124m\"\u001b[39m\u001b[38;5;124mModel type should be one of \u001b[39m\u001b[38;5;132;01m{\u001b[39;00m\u001b[38;5;124m'\u001b[39m\u001b[38;5;124m, \u001b[39m\u001b[38;5;124m'\u001b[39m\u001b[38;5;241m.\u001b[39mjoin(c\u001b[38;5;241m.\u001b[39m\u001b[38;5;18m__name__\u001b[39m\u001b[38;5;250m \u001b[39m\u001b[38;5;28;01mfor\u001b[39;00m\u001b[38;5;250m \u001b[39mc\u001b[38;5;250m \u001b[39m\u001b[38;5;129;01min\u001b[39;00m\u001b[38;5;250m \u001b[39m\u001b[38;5;28mcls\u001b[39m\u001b[38;5;241m.\u001b[39m_model_mapping\u001b[38;5;241m.\u001b[39mkeys())\u001b[38;5;132;01m}\u001b[39;00m\u001b[38;5;124m.\u001b[39m\u001b[38;5;124m\"\u001b[39m\n\u001b[0;32m    570\u001b[0m )\n",
      "File \u001b[1;32m~\\anaconda3\\envs\\my_env\\lib\\site-packages\\transformers\\modeling_utils.py:3804\u001b[0m, in \u001b[0;36mPreTrainedModel.from_pretrained\u001b[1;34m(cls, pretrained_model_name_or_path, config, cache_dir, ignore_mismatched_sizes, force_download, local_files_only, token, revision, use_safetensors, *model_args, **kwargs)\u001b[0m\n\u001b[0;32m   3801\u001b[0m \u001b[38;5;28;01mtry\u001b[39;00m:\n\u001b[0;32m   3802\u001b[0m     \u001b[38;5;28;01mfrom\u001b[39;00m \u001b[38;5;21;01m.\u001b[39;00m\u001b[38;5;21;01mmodeling_tf_pytorch_utils\u001b[39;00m \u001b[38;5;28;01mimport\u001b[39;00m load_tf2_checkpoint_in_pytorch_model\n\u001b[1;32m-> 3804\u001b[0m     model, loading_info \u001b[38;5;241m=\u001b[39m \u001b[43mload_tf2_checkpoint_in_pytorch_model\u001b[49m\u001b[43m(\u001b[49m\n\u001b[0;32m   3805\u001b[0m \u001b[43m        \u001b[49m\u001b[43mmodel\u001b[49m\u001b[43m,\u001b[49m\u001b[43m \u001b[49m\u001b[43mresolved_archive_file\u001b[49m\u001b[43m,\u001b[49m\u001b[43m \u001b[49m\u001b[43mallow_missing_keys\u001b[49m\u001b[38;5;241;43m=\u001b[39;49m\u001b[38;5;28;43;01mTrue\u001b[39;49;00m\u001b[43m,\u001b[49m\u001b[43m \u001b[49m\u001b[43moutput_loading_info\u001b[49m\u001b[38;5;241;43m=\u001b[39;49m\u001b[38;5;28;43;01mTrue\u001b[39;49;00m\n\u001b[0;32m   3806\u001b[0m \u001b[43m    \u001b[49m\u001b[43m)\u001b[49m\n\u001b[0;32m   3807\u001b[0m \u001b[38;5;28;01mexcept\u001b[39;00m \u001b[38;5;167;01mImportError\u001b[39;00m:\n\u001b[0;32m   3808\u001b[0m     logger\u001b[38;5;241m.\u001b[39merror(\n\u001b[0;32m   3809\u001b[0m         \u001b[38;5;124m\"\u001b[39m\u001b[38;5;124mLoading a TensorFlow model in PyTorch, requires both PyTorch and TensorFlow to be installed.\u001b[39m\u001b[38;5;124m\"\u001b[39m\n\u001b[0;32m   3810\u001b[0m         \u001b[38;5;124m\"\u001b[39m\u001b[38;5;124m Please see https://pytorch.org/ and https://www.tensorflow.org/install/ for installation\u001b[39m\u001b[38;5;124m\"\u001b[39m\n\u001b[0;32m   3811\u001b[0m         \u001b[38;5;124m\"\u001b[39m\u001b[38;5;124m instructions.\u001b[39m\u001b[38;5;124m\"\u001b[39m\n\u001b[0;32m   3812\u001b[0m     )\n",
      "File \u001b[1;32m~\\anaconda3\\envs\\my_env\\lib\\site-packages\\transformers\\modeling_tf_pytorch_utils.py:506\u001b[0m, in \u001b[0;36mload_tf2_checkpoint_in_pytorch_model\u001b[1;34m(pt_model, tf_checkpoint_path, tf_inputs, allow_missing_keys, output_loading_info)\u001b[0m\n\u001b[0;32m    501\u001b[0m \u001b[38;5;250m\u001b[39m\u001b[38;5;124;03m\"\"\"\u001b[39;00m\n\u001b[0;32m    502\u001b[0m \u001b[38;5;124;03mLoad TF 2.0 HDF5 checkpoint in a PyTorch model We use HDF5 to easily do transfer learning (see\u001b[39;00m\n\u001b[0;32m    503\u001b[0m \u001b[38;5;124;03mhttps://github.com/tensorflow/tensorflow/blob/ee16fcac960ae660e0e4496658a366e2f745e1f0/tensorflow/python/keras/engine/network.py#L1352-L1357).\u001b[39;00m\n\u001b[0;32m    504\u001b[0m \u001b[38;5;124;03m\"\"\"\u001b[39;00m\n\u001b[0;32m    505\u001b[0m \u001b[38;5;28;01mtry\u001b[39;00m:\n\u001b[1;32m--> 506\u001b[0m     \u001b[38;5;28;01mimport\u001b[39;00m \u001b[38;5;21;01mtensorflow\u001b[39;00m \u001b[38;5;28;01mas\u001b[39;00m \u001b[38;5;21;01mtf\u001b[39;00m  \u001b[38;5;66;03m# noqa: F401\u001b[39;00m\n\u001b[0;32m    507\u001b[0m     \u001b[38;5;28;01mimport\u001b[39;00m \u001b[38;5;21;01mtorch\u001b[39;00m  \u001b[38;5;66;03m# noqa: F401\u001b[39;00m\n\u001b[0;32m    508\u001b[0m \u001b[38;5;28;01mexcept\u001b[39;00m \u001b[38;5;167;01mImportError\u001b[39;00m:\n",
      "\u001b[1;31mModuleNotFoundError\u001b[0m: No module named 'tensorflow'"
     ]
    }
   ],
   "source": [
    "from transformers import AutoModelForSequenceClassification, logging\n",
    "logging.set_verbosity_warning()\n",
    "model = AutoModelForSequenceClassification.from_pretrained(\"bert-base-uncased\", num_labels=2, from_tf=True)"
   ]
  },
  {
   "cell_type": "code",
   "execution_count": null,
   "id": "5d821cf1",
   "metadata": {},
   "outputs": [],
   "source": []
  }
 ],
 "metadata": {
  "kernelspec": {
   "display_name": "Python [conda env:my_env]",
   "language": "python",
   "name": "conda-env-my_env-py"
  },
  "language_info": {
   "codemirror_mode": {
    "name": "ipython",
    "version": 3
   },
   "file_extension": ".py",
   "mimetype": "text/x-python",
   "name": "python",
   "nbconvert_exporter": "python",
   "pygments_lexer": "ipython3",
   "version": "3.10.14"
  }
 },
 "nbformat": 4,
 "nbformat_minor": 5
}
